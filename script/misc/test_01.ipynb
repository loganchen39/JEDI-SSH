{
 "cells": [
  {
   "cell_type": "code",
   "execution_count": 3,
   "id": "5ad26cc0-5e36-473f-9079-4e7aa1c2f91b",
   "metadata": {},
   "outputs": [
    {
     "ename": "ModuleNotFoundError",
     "evalue": "No module named 'xarray'",
     "output_type": "error",
     "traceback": [
      "\u001b[0;31m---------------------------------------------------------------------------\u001b[0m",
      "\u001b[0;31mModuleNotFoundError\u001b[0m                       Traceback (most recent call last)",
      "Input \u001b[0;32mIn [3]\u001b[0m, in \u001b[0;36m<cell line: 8>\u001b[0;34m()\u001b[0m\n\u001b[1;32m      5\u001b[0m \u001b[38;5;28;01mimport\u001b[39;00m \u001b[38;5;21;01mcalendar\u001b[39;00m\n\u001b[1;32m      7\u001b[0m \u001b[38;5;28;01mimport\u001b[39;00m \u001b[38;5;21;01mnumpy\u001b[39;00m \u001b[38;5;28;01mas\u001b[39;00m \u001b[38;5;21;01mnp\u001b[39;00m\n\u001b[0;32m----> 8\u001b[0m \u001b[38;5;28;01mimport\u001b[39;00m \u001b[38;5;21;01mxarray\u001b[39;00m \u001b[38;5;28;01mas\u001b[39;00m \u001b[38;5;21;01mxr\u001b[39;00m\n\u001b[1;32m      9\u001b[0m \u001b[38;5;28;01mimport\u001b[39;00m \u001b[38;5;21;01mscipy\u001b[39;00m\n\u001b[1;32m     10\u001b[0m \u001b[38;5;28;01mimport\u001b[39;00m \u001b[38;5;21;01mpandas\u001b[39;00m \u001b[38;5;28;01mas\u001b[39;00m \u001b[38;5;21;01mpd\u001b[39;00m\n",
      "\u001b[0;31mModuleNotFoundError\u001b[0m: No module named 'xarray'"
     ]
    }
   ],
   "source": [
    "import os\n",
    "import sys\n",
    "import glob\n",
    "import datetime\n",
    "import calendar\n",
    "\n",
    "import numpy as np\n",
    "import xarray as xr\n",
    "import scipy\n",
    "import pandas as pd\n",
    "\n",
    "import matplotlib.pyplot as plt\n",
    "\n",
    "\n",
    "#import numpy as np\n",
    "#import scipy\n",
    "## from scipy.interpolate import splprep, splev\n",
    "#import matplotlib.pyplot as plt\n",
    "\n",
    "# Generate sample data\n",
    "t = np.linspace(0, 2*np.pi, 10)\n",
    "x = np.cos(t)\n",
    "y = np.sin(t)\n",
    "\n",
    "# Prepare data for splprep\n",
    "tck, u = scipy.interpolate.splprep([x, y], s=0)\n",
    "\n",
    "# Generate new points along the spline curve\n",
    "new_t = np.linspace(0, 2*np.pi, 100)\n",
    "new_points = scipy.interpolate.splev(new_t, tck)\n",
    "\n",
    "# Plot original data and spline curve\n",
    "plt.plot(x, y, 'ro', label='Original Points')\n",
    "plt.plot(new_points[0], new_points[1], 'b-', label='Spline Curve')\n",
    "plt.legend()\n",
    "plt.title('B-spline Interpolation')\n",
    "plt.xlabel('X')\n",
    "plt.ylabel('Y')\n",
    "plt.show()"
   ]
  }
 ],
 "metadata": {
  "kernelspec": {
   "display_name": "Python 3 (ipykernel)",
   "language": "python",
   "name": "python3"
  },
  "language_info": {
   "codemirror_mode": {
    "name": "ipython",
    "version": 3
   },
   "file_extension": ".py",
   "mimetype": "text/x-python",
   "name": "python",
   "nbconvert_exporter": "python",
   "pygments_lexer": "ipython3",
   "version": "3.9.12"
  }
 },
 "nbformat": 4,
 "nbformat_minor": 5
}
